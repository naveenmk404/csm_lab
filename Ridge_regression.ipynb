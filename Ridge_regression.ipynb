{
  "nbformat": 4,
  "nbformat_minor": 0,
  "metadata": {
    "colab": {
      "provenance": [],
      "authorship_tag": "ABX9TyM/0ZTM/2MY9PH3tD70Ee3q",
      "include_colab_link": true
    },
    "kernelspec": {
      "name": "python3",
      "display_name": "Python 3"
    },
    "language_info": {
      "name": "python"
    }
  },
  "cells": [
    {
      "cell_type": "markdown",
      "metadata": {
        "id": "view-in-github",
        "colab_type": "text"
      },
      "source": [
        "<a href=\"https://colab.research.google.com/github/naveenmk404/csm_lab/blob/main/Ridge_regression.ipynb\" target=\"_parent\"><img src=\"https://colab.research.google.com/assets/colab-badge.svg\" alt=\"Open In Colab\"/></a>"
      ]
    },
    {
      "cell_type": "code",
      "source": [
        "import pandas as pd\n",
        "import numpy as np\n",
        "from sklearn.model_selection import cross_val_score\n",
        "from sklearn.model_selection import RepeatedKFold\n",
        "from sklearn.linear_model import Ridge\n",
        "\n",
        "data_frame=pd.read_csv(\"https://raw.githubusercontent.com/jbrownlee/Datasets/master/housing.csv\")\n",
        "\n",
        "data=data_frame.values\n",
        "\n",
        "X, y = data[:, :-1],data[:, -1]\n",
        "\n",
        "model=Ridge(alpha=1.0)\n",
        "model.fit(X,y)\n",
        "\n",
        "cv=RepeatedKFold(n_splits = 10, n_repeats=3, random_state=1)\n",
        "\n",
        "scores = cross_val_score(model,X,y,scoring='neg_mean_absolute_error',cv=cv, n_jobs=-1)\n",
        "\n",
        "scores = np.absolute(scores)\n",
        "\n",
        "print(\"Mean MAE : %.3f \" %(np.mean(scores)))\n",
        "print(\"Standard Deviation : %.3f\" %np.std(scores))\n",
        "\n",
        "model.fit(X,y)\n",
        "\n",
        "row = [5.82401,0.00,18.100,0,0.5320,6.2420,64.70,3.4242,24,666.0,20.20,396.90,10.74]\n",
        "\n",
        "yhat = model.predict([row])\n",
        "\n",
        "\n",
        "print('predicted : %.3f' % yhat)"
      ],
      "metadata": {
        "colab": {
          "base_uri": "https://localhost:8080/"
        },
        "id": "d3jtHjvck_y7",
        "outputId": "2326b4d4-fb13-4ca6-c15e-910675f7ec5b"
      },
      "execution_count": 83,
      "outputs": [
        {
          "output_type": "stream",
          "name": "stdout",
          "text": [
            "Mean MAE : 3.380 \n",
            "Standard Deviation : 0.342\n",
            "predicted : 22.857\n"
          ]
        }
      ]
    },
    {
      "cell_type": "code",
      "source": [],
      "metadata": {
        "id": "cmH1yMOKvt2U"
      },
      "execution_count": null,
      "outputs": []
    }
  ]
}