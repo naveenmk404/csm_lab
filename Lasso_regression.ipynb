{
  "nbformat": 4,
  "nbformat_minor": 0,
  "metadata": {
    "colab": {
      "provenance": [],
      "gpuType": "T4",
      "authorship_tag": "ABX9TyOZH9ozRZhnrsEUG8UfGIo/",
      "include_colab_link": true
    },
    "kernelspec": {
      "name": "python3",
      "display_name": "Python 3"
    },
    "language_info": {
      "name": "python"
    }
  },
  "cells": [
    {
      "cell_type": "markdown",
      "metadata": {
        "id": "view-in-github",
        "colab_type": "text"
      },
      "source": [
        "<a href=\"https://colab.research.google.com/github/naveenmk404/csm_lab/blob/main/Lasso_regression.ipynb\" target=\"_parent\"><img src=\"https://colab.research.google.com/assets/colab-badge.svg\" alt=\"Open In Colab\"/></a>"
      ]
    },
    {
      "cell_type": "code",
      "execution_count": 9,
      "metadata": {
        "colab": {
          "base_uri": "https://localhost:8080/"
        },
        "id": "okvfHRzbgmIm",
        "outputId": "14ade1d3-7cd8-4192-974f-da1f9e24d34a"
      },
      "outputs": [
        {
          "output_type": "stream",
          "name": "stdout",
          "text": [
            "Mean MAE:  3.379 (0.526)\n",
            "Predicted: 20.949\n"
          ]
        }
      ],
      "source": [
        "import pandas as pd\n",
        "import numpy as np\n",
        "from sklearn.model_selection import cross_val_score\n",
        "from sklearn.model_selection import RepeatedKFold\n",
        "from sklearn.linear_model import Lasso\n",
        "# from sklearn.linear_model import LassoCV\n",
        "\n",
        "url = \"https://raw.githubusercontent.com/jbrownlee/Datasets/master/housing.csv\"\n",
        "df = pd.read_csv(url, header=None)\n",
        "\n",
        "data = df.values\n",
        "x = data[:,:-1]\n",
        "\n",
        "y = data[:,-1]\n",
        "\n",
        "\n",
        "cross_validation = RepeatedKFold(n_splits = 10, n_repeats=3, random_state=1)\n",
        "grid = dict()\n",
        "grid['alpha'] = np.arange(0, 1, 0.01)\n",
        "\n",
        "model = Lasso(alpha = 0.01)\n",
        "scores = cross_val_score(model, x, y, scoring='neg_mean_absolute_error', cv=cross_validation, n_jobs=-1)\n",
        "\n",
        "\n",
        "\n",
        "# model = LassoCV(alphas=np.arange(0, 100, 0.1), cv=cross_validation, n_jobs=-1)\n",
        "\n",
        "# search = GridSearchCV(model, grid, scoring='neg_mean_absolute_error', cv=cross_validation, n_jobs=-1)\n",
        "\n",
        "\n",
        "model.fit(x,y)\n",
        "\n",
        "# print(f'model_aplha : {model.alpha_}')\n",
        "scores= np.absolute(scores)\n",
        "\n",
        "print(f'Mean MAE:  {round(np.mean(scores),3)} ({round(np.std(scores),3)})')\n",
        "\n",
        "results = search.fit(X, y)\n",
        "\n",
        "row = [0.09378,12.50,7.870,0,0.5240,5.8890,39.00,5.4509,5,311.0,15.20,390.50,15.71]\n",
        "yhat = model.predict([row])\n",
        "\n",
        "print('Predicted: %.3f' % yhat)\n"
      ]
    }
  ]
}